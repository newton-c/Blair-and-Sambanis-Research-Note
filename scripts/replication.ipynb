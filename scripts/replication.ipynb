{
 "metadata": {
  "language_info": {
   "codemirror_mode": {
    "name": "ipython",
    "version": 3
   },
   "file_extension": ".py",
   "mimetype": "text/x-python",
   "name": "python",
   "nbconvert_exporter": "python",
   "pygments_lexer": "ipython3",
   "version": "3.8.5-final"
  },
  "orig_nbformat": 2,
  "kernelspec": {
   "name": "python38564bitf764d2411de94c1590993821e58431c8",
   "display_name": "Python 3.8.5 64-bit"
  }
 },
 "nbformat": 4,
 "nbformat_minor": 2,
 "cells": [
  {
   "source": [
    "This is my attempt to replicate and improve the predictive models in Blair & Sambanis (2020) Forecasting Civil Wars: Theory and Structure in an Age of “Big Data” and Machine Learning. "
   ],
   "cell_type": "markdown",
   "metadata": {}
  },
  {
   "cell_type": "code",
   "execution_count": 36,
   "metadata": {},
   "outputs": [],
   "source": [
    "import pandas as pd \n",
    "from sklearn.ensemble import RandomForestRegressor\n",
    "from sklearn.impute import SimpleImputer\n",
    "from sklearn.preprocessing import StandardScaler\n",
    "from sklearn.model_selection import train_test_split\n",
    "from sklearn.metrics import mean_absolute_error, mean_squared_error, r2_score"
   ]
  },
  {
   "source": [
    "Loading the 1 month data from Blair & Sambanis (2020)."
   ],
   "cell_type": "markdown",
   "metadata": {}
  },
  {
   "cell_type": "code",
   "execution_count": 37,
   "metadata": {
    "tags": []
   },
   "outputs": [],
   "source": [
    "file_path = '~/Desktop/blair&sambanis2020_rn/data/b&s_data/1mo_data.dta'\n",
    "df = pd.read_stata(file_path)"
   ]
  },
  {
   "source": [
    "Deleting NaN for the target feature. I need to look into why these values are missing. Can they be assumed 0? Are they observations in which a conflict is ongoing that should be excluded?"
   ],
   "cell_type": "markdown",
   "metadata": {}
  },
  {
   "cell_type": "code",
   "execution_count": 38,
   "metadata": {},
   "outputs": [],
   "source": [
    "df = df[df['incidence_civil_ns'].notna()]"
   ]
  },
  {
   "source": [
    "Selecting the imputs and target\n"
   ],
   "cell_type": "markdown",
   "metadata": {}
  },
  {
   "cell_type": "code",
   "execution_count": 39,
   "metadata": {},
   "outputs": [],
   "source": [
    "y = df.incidence_civil_ns\n",
    "\n",
    "features = [\"year\", \"month\", \"gov_opp_low_level\", \"gov_reb_low_level\", \"opp_gov_low_level\", \n",
    "    \"reb_gov_low_level\", \"gov_opp_nonviol_repression\", \n",
    "    \"gov_reb_nonviol_repression\", \"gov_opp_accommodations\", \n",
    "    \"gov_reb_accommodations\", \"reb_gov_demands\", \"opp_gov_demands\"]\n",
    "X = df[features]"
   ]
  },
  {
   "source": [
    "Creating the training and testing split."
   ],
   "cell_type": "markdown",
   "metadata": {}
  },
  {
   "cell_type": "code",
   "execution_count": 40,
   "metadata": {},
   "outputs": [],
   "source": [
    "X_train, X_test, y_train, y_test = train_test_split(X, y, random_state = 78)"
   ]
  },
  {
   "source": [
    "Setting up a pipeline to scale, impute, and otherwise prepare the data."
   ],
   "cell_type": "markdown",
   "metadata": {}
  },
  {
   "cell_type": "code",
   "execution_count": 41,
   "metadata": {},
   "outputs": [],
   "source": [
    "my_imputer = SimpleImputer()\n",
    "X_train_imputed = pd.DataFrame(my_imputer.fit_transform(X_train))\n",
    "X_test_imputed = pd.DataFrame(my_imputer.transform(X_test))\n",
    "\n",
    "X_train_imputed.columns = X_train.columns\n",
    "X_test_imputed.columns = X_test.columns\n",
    "\n",
    "# feature scaling\n",
    "sc = StandardScaler()\n",
    "X_train_sc = sc.fit_transform(X_train_imputed)\n",
    "X_test_sc = sc.transform(X_test_imputed)"
   ]
  },
  {
   "source": [
    "Initial random forest model"
   ],
   "cell_type": "markdown",
   "metadata": {}
  },
  {
   "cell_type": "code",
   "execution_count": 43,
   "metadata": {},
   "outputs": [
    {
     "output_type": "stream",
     "name": "stdout",
     "text": [
      "\nRandom Forest\n\nMean absoulte error: 0.00\nMean squared error: 0.00\nCoefficient of determination: 0.02\n"
     ]
    }
   ],
   "source": [
    "rf_reg = RandomForestRegressor(n_estimators=100, max_leaf_nodes=5,\n",
    "    n_jobs=1, random_state=0)\n",
    "rf_reg.fit(X_train_sc, y_train)\n",
    "preds = rf_reg.predict(X_test_sc)\n",
    "\n",
    "print('\\nRandom Forest\\n')\n",
    "print('Mean absoulte error: %.2f'\n",
    "        % mean_absolute_error(y_test, preds))\n",
    "\n",
    "#print('Coefficients: \\n', rf_reg.coef_)\n",
    "# The mean squared error\n",
    "print('Mean squared error: %.2f'\n",
    "      % mean_squared_error(y_test, preds))\n",
    "# The coefficient of determination: 1 is perfect prediction\n",
    "print('Coefficient of determination: %.2f'\n",
    "      % r2_score(y_test, preds))\n"
   ]
  },
  {
   "cell_type": "code",
   "execution_count": null,
   "metadata": {},
   "outputs": [],
   "source": []
  }
 ]
}