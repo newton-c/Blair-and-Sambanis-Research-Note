{
 "metadata": {
  "language_info": {
   "codemirror_mode": {
    "name": "ipython",
    "version": 3
   },
   "file_extension": ".py",
   "mimetype": "text/x-python",
   "name": "python",
   "nbconvert_exporter": "python",
   "pygments_lexer": "ipython3",
   "version": "3.8.5-final"
  },
  "orig_nbformat": 2,
  "kernelspec": {
   "name": "python38564bitf764d2411de94c1590993821e58431c8",
   "display_name": "Python 3.8.5 64-bit"
  }
 },
 "nbformat": 4,
 "nbformat_minor": 2,
 "cells": [
  {
   "source": [
    "This is my attempt to replicate and improve the predictive models in Blair & Sambanis (2020) Forecasting Civil Wars: Theory and Structure in an Age of “Big Data” and Machine Learning. "
   ],
   "cell_type": "markdown",
   "metadata": {}
  },
  {
   "cell_type": "code",
   "execution_count": 1,
   "metadata": {},
   "outputs": [],
   "source": [
    "import pandas as pd \n",
    "from sklearn.ensemble import RandomForestRegressor\n",
    "from sklearn.impute import SimpleImputer\n",
    "from sklearn.preprocessing import StandardScaler\n",
    "from sklearn.model_selection import train_test_split\n",
    "from sklearn.metrics import mean_absolute_error, mean_squared_error, r2_score,  roc_auc_score\n",
    "import os\n",
    "from statistics import mean"
   ]
  },
  {
   "source": [
    "Set the working directory and load the 1 month data from Blair & Sambanis (2020)."
   ],
   "cell_type": "markdown",
   "metadata": {}
  },
  {
   "cell_type": "code",
   "execution_count": 2,
   "metadata": {
    "tags": []
   },
   "outputs": [],
   "source": [
    "#os.chdir('set your directory path')\n",
    "os.chdir(\"/home/christopher/Desktop/blair&sambanis2020_rn/b&s_replication\" +\n",
    "    \"/sj-zip-1-jcr-10.1177_0022002720918923/replication-3\")\n",
    "\n",
    "file_path = 'data/1mo_data.dta'\n",
    "df = pd.read_stata(file_path)"
   ]
  },
  {
   "source": [
    "Deleting NaN for the target feature. These are observations in which a conflict is ongoing in a country, and therefor conflict cannot break out (at the country level)."
   ],
   "cell_type": "markdown",
   "metadata": {}
  },
  {
   "source": [
    "Seperating the training and testing data for the base model\n"
   ],
   "cell_type": "markdown",
   "metadata": {}
  },
  {
   "cell_type": "code",
   "execution_count": 9,
   "metadata": {},
   "outputs": [],
   "source": [
    "all_variables = [\"gov_opp_low_level\", \"gov_reb_low_level\", \"opp_gov_low_level\",\n",
    "    \"reb_gov_low_level\", \"gov_opp_nonviol_repression\", \"gov_reb_nonviol_repression\",\n",
    "    \"gov_opp_accommodations\", \"gov_reb_accommodations\", \"reb_gov_demands\",          \n",
    "    \"opp_gov_demands\", \"incidence_civil_ns_plus1\"]\n",
    "\n",
    "df = df[all_variables].dropna()\n",
    "\n",
    "train_period = df.loc[(df['month'] == 12) & (df['year'] == 2007)]\n",
    "train_period = mean(train_period['period'])\n",
    "end_period = df.loc[(df['month'] == 12) & (df['year'] == 2015)]\n",
    "end_period = mean(end_period['period'])\n",
    "\n",
    "train = df.loc[(df['period'] <= train_period)]\n",
    "test = df.loc[(df['period'] > train_period) & (df['period'] <= end_period)]"
   ]
  },
  {
   "source": [
    "Create the target"
   ],
   "cell_type": "markdown",
   "metadata": {}
  },
  {
   "source": [
    "## Escalation model\n",
    "Select the features."
   ],
   "cell_type": "markdown",
   "metadata": {}
  },
  {
   "cell_type": "code",
   "execution_count": 14,
   "metadata": {},
   "outputs": [],
   "source": [
    "features_escalation = [\"gov_opp_low_level\", \"gov_reb_low_level\", \"opp_gov_low_level\",\n",
    "    \"reb_gov_low_level\", \"gov_opp_nonviol_repression\", \"gov_reb_nonviol_repression\",\n",
    "    \"gov_opp_accommodations\", \"gov_reb_accommodations\", \"reb_gov_demands\",          \n",
    "    \"opp_gov_demands\"]\n",
    "\n",
    "X_train_escalation = train[features_escalation]\n",
    "X_test_escalation = test[features_escalation]"
   ]
  },
  {
   "cell_type": "code",
   "execution_count": 15,
   "metadata": {},
   "outputs": [],
   "source": [
    "y_train_base = train['incidence_civil_ns_plus1']\n",
    "y_test_base = test['incidence_civil_ns_plus1']"
   ]
  },
  {
   "cell_type": "code",
   "execution_count": 16,
   "metadata": {},
   "outputs": [
    {
     "output_type": "execute_result",
     "data": {
      "text/plain": [
       "gov_opp_low_level             0\n",
       "gov_reb_low_level             0\n",
       "opp_gov_low_level             0\n",
       "reb_gov_low_level             0\n",
       "gov_opp_nonviol_repression    0\n",
       "gov_reb_nonviol_repression    0\n",
       "gov_opp_accommodations        0\n",
       "gov_reb_accommodations        0\n",
       "reb_gov_demands               0\n",
       "opp_gov_demands               0\n",
       "dtype: int64"
      ]
     },
     "metadata": {},
     "execution_count": 16
    }
   ],
   "source": [
    "X_test_escalation.isnull().sum()"
   ]
  },
  {
   "source": [
    "Define the random forest model."
   ],
   "cell_type": "markdown",
   "metadata": {}
  },
  {
   "cell_type": "code",
   "execution_count": 18,
   "metadata": {},
   "outputs": [
    {
     "output_type": "stream",
     "name": "stdout",
     "text": [
      "Mean squared error: 0.00\nCoefficient of determination: -0.02\n"
     ]
    }
   ],
   "source": [
    "rf_reg = RandomForestRegressor(n_estimators=100000, max_leaf_nodes=5)\n",
    "rf_reg.fit(X_train_escalation, y_train_base)\n",
    "preds = rf_reg.predict(X_test_escalation)\n",
    "\n",
    "print('Mean squared error: %.2f'\n",
    "      % mean_squared_error(y_test_base, preds))\n",
    "# The coefficient of determination: 1 is perfect prediction\n",
    "print('Coefficient of determination: %.2f'\n",
    "      % r2_score(y_test_base, preds))"
   ]
  },
  {
   "source": [
    "# Adding my improvements\n",
    "\n",
    "In order to try to make a more accurate model, I use, imputation of missing values, scalling, and gradient boosting."
   ],
   "cell_type": "markdown",
   "metadata": {}
  },
  {
   "cell_type": "code",
   "execution_count": null,
   "metadata": {},
   "outputs": [],
   "source": [
    "my_imputer = SimpleImputer()\n",
    "X_train_imputed = pd.DataFrame(my_imputer.fit_transform(X_train))\n",
    "X_test_imputed = pd.DataFrame(my_imputer.transform(X_test))\n",
    "\n",
    "X_train_imputed.columns = X_train.columns\n",
    "X_test_imputed.columns = X_test.columns\n",
    "\n",
    "# feature scaling\n",
    "sc = StandardScaler()\n",
    "X_train_sc = sc.fit_transform(X_train_imputed)\n",
    "X_test_sc = sc.transform(X_test_imputed)"
   ]
  },
  {
   "source": [
    "Initial random forest model"
   ],
   "cell_type": "markdown",
   "metadata": {}
  },
  {
   "cell_type": "code",
   "execution_count": null,
   "metadata": {},
   "outputs": [],
   "source": [
    "rf_reg = RandomForestRegressor(n_estimators=100, max_leaf_nodes=5,\n",
    "    n_jobs=1, random_state=0)\n",
    "rf_reg.fit(X_train_sc, y_train)\n",
    "preds = rf_reg.predict(X_test_sc)\n",
    "\n",
    "print('\\nRandom Forest\\n')\n",
    "print('Mean absoulte error: %.2f'\n",
    "        % mean_absolute_error(y_test, preds))\n",
    "\n",
    "#print('Coefficients: \\n', rf_reg.coef_)\n",
    "# The mean squared error\n",
    "print('Mean squared error: %.2f'\n",
    "      % mean_squared_error(y_test, preds))\n",
    "# The coefficient of determination: 1 is perfect prediction\n",
    "print('Coefficient of determination: %.2f'\n",
    "      % r2_score(y_test, preds))\n"
   ]
  },
  {
   "cell_type": "code",
   "execution_count": null,
   "metadata": {},
   "outputs": [],
   "source": []
  }
 ]
}